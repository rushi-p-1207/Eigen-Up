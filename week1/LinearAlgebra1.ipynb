{
  "nbformat": 4,
  "nbformat_minor": 0,
  "metadata": {
    "colab": {
      "provenance": []
    },
    "kernelspec": {
      "name": "python3",
      "display_name": "Python 3"
    },
    "language_info": {
      "name": "python"
    }
  },
  "cells": [
    {
      "cell_type": "code",
      "execution_count": null,
      "metadata": {
        "id": "GRrzvtpOZ77n"
      },
      "outputs": [],
      "source": [
        "def gaussian_elimination(A, b):\n",
        "    n = len(A)\n",
        "    res = [row[:] + [b[i]] for i, row in enumerate(A)]\n",
        "\n",
        "    for i in range(n):\n",
        "        if res[i][i] == 0:\n",
        "            for k in range(i+1, n):\n",
        "                if res[k][i] != 0:\n",
        "                    res[i], res[k] = res[k], res[i]\n",
        "                    break\n",
        "\n",
        "        for j in range(i+1, n):\n",
        "            ratio = res[j][i] / res[i][i]\n",
        "            for k in range(i, n + 1):\n",
        "                res[j][k] -= ratio * res[i][k]\n",
        "\n",
        "    return res"
      ]
    },
    {
      "cell_type": "code",
      "source": [
        "def matrix_multiply(A, B):\n",
        "    if len(A[0]) != len(B):\n",
        "        return \"Incorrect matrix dimensions\"\n",
        "    result = [[0 for _ in range(len(B[0]))] for _ in range(len(A))]\n",
        "    for i in range(len(A)):\n",
        "        for j in range(len(B[0])):\n",
        "            for k in range(len(B)):\n",
        "                result[i][j] += A[i][k] * B[k][j]\n",
        "\n",
        "    return result\n"
      ],
      "metadata": {
        "id": "58NUB_8Yab7n"
      },
      "execution_count": null,
      "outputs": []
    },
    {
      "cell_type": "code",
      "source": [
        "def inverse_2x2(matrix):\n",
        "    a, b = matrix[0]\n",
        "    c, d = matrix[1]\n",
        "    det = a * d - b * c\n",
        "    if det == 0:\n",
        "        return \"Singular Matrix\"\n",
        "    inv_det = 1 / det\n",
        "    return [[d * inv_det, -b * inv_det],\n",
        "            [-c * inv_det, a * inv_det]]\n"
      ],
      "metadata": {
        "id": "P4uIgoTfaz5s"
      },
      "execution_count": null,
      "outputs": []
    },
    {
      "cell_type": "code",
      "source": [
        "def lu_decomposition(A):\n",
        "    n = len(A)\n",
        "    L = [[0.0 for _ in range(n)] for _ in range(n)]\n",
        "    U = [[0.0 for _ in range(n)] for _ in range(n)]\n",
        "\n",
        "    for i in range(n):\n",
        "        L[i][i] = 1.0\n",
        "        for j in range(i, n):\n",
        "            U[i][j] = A[i][j] - sum(L[i][k] * U[k][j] for k in range(i))\n",
        "        for j in range(i+1, n):\n",
        "            L[j][i] = (A[j][i] - sum(L[j][k] * U[k][i] for k in range(i))) / U[i][i]\n",
        "\n",
        "    return L, U\n"
      ],
      "metadata": {
        "id": "F3bwJUUqc4sX"
      },
      "execution_count": null,
      "outputs": []
    },
    {
      "cell_type": "code",
      "source": [
        "def solve_lu(A, b):\n",
        "    L, U = lu_decomposition(A)\n",
        "    n = len(A)\n",
        "    y = [0] * n\n",
        "    for i in range(n):\n",
        "        y[i] = b[i] - sum(L[i][j] * y[j] for j in range(i))\n",
        "    x = [0] * n\n",
        "    for i in reversed(range(n)):\n",
        "        x[i] = (y[i] - sum(U[i][j] * x[j] for j in range(i+1, n))) / U[i][i]\n",
        "\n",
        "    return x\n"
      ],
      "metadata": {
        "id": "22jgQSGiqhkp"
      },
      "execution_count": null,
      "outputs": []
    }
  ]
}